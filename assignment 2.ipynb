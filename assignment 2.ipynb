{
 "cells": [
  {
   "cell_type": "code",
   "execution_count": 8,
   "id": "a54db1b9",
   "metadata": {},
   "outputs": [
    {
     "name": "stdout",
     "output_type": "stream",
     "text": [
      "name Aaron\n",
      "age 20\n",
      "level 100\n",
      "maths 100\n",
      "science 97\n",
      "english 80\n",
      "computing 74\n",
      "congratulations Aaron,you scoreed excellent in maths!\n",
      "congratulations Aaron,you scoreed excellent in science!\n",
      "Aaron has done well in english\n",
      "Aaron has done well in computing\n"
     ]
    }
   ],
   "source": [
    "student = {'name':'Aaron','age': 20 , 'level' : 100 ,'maths' : 100, 'science' : 97, 'english' : 80, 'computing' : 74}\n",
    "   #student's personal information#\n",
    "for k,v in student.items():\n",
    " print(k,v)\n",
    "     #student's score in maths#\n",
    "if (student['maths'] >90):\n",
    "  print('congratulations '+student['name']+',you scoreed excellent in maths!')\n",
    "elif (70 <= student['maths'] <= 89):\n",
    "  print(student['name']+ 'have done well in maths')  \n",
    "elif (50 <= student['maths'] <= 69):   \n",
    "  print(student['name']+ 'need to work harder in maths')\n",
    "else :  \n",
    "      print(student['name']+ 'have failed maths')\n",
    "    #student's score in science#\n",
    "if (student['science'] >90):\n",
    "  print('congratulations '+student['name']+',you scoreed excellent in science!')\n",
    "elif (70 <= student['science'] <= 89):\n",
    "  print(student['name']+ 'have done well in science')  \n",
    "elif (50 <= student['science'] <= 69):   \n",
    "  print(student['name']+ 'need to work harder in science')\n",
    "else :  \n",
    "      print(student['name']+ 'have failed english')\n",
    "        #student'score in english#\n",
    "if (student['english'] >90):\n",
    "  print('congratulations '+student['name']+',you scoreed excellent in english!')\n",
    "elif (70 <= student['english'] <= 89):\n",
    "  print(student['name']+ ' has done well in english')  \n",
    "elif (50 <= student['english'] <= 69):   \n",
    "  print(student['name']+ 'need to work harder in english')\n",
    "else :  \n",
    "      print(student['name']+ 'have failed english')\n",
    "        #student's score in computing#\n",
    "if (student['computing'] >90):\n",
    "  print('congratulations '+student['name']+',you scoreed excellent in computing!')\n",
    "elif (70 <= student['computing'] <= 89):\n",
    "  print(student['name']+ ' has done well in computing')  \n",
    "elif (50 <= student['computing'] <= 69):   \n",
    "  print(student['name']+ 'need to work harder in computing')\n",
    "else :  \n",
    "      print(student['name']+ 'have failed computing')        "
   ]
  },
  {
   "cell_type": "code",
   "execution_count": 4,
   "id": "b75cd987",
   "metadata": {},
   "outputs": [
    {
     "name": "stdout",
     "output_type": "stream",
     "text": [
      "you are eligible to vote\n",
      "you are eligible to vote\n",
      "sorry,you are not eligible\n",
      "you are eligible to vote\n",
      "Error code\n"
     ]
    }
   ],
   "source": [
    "##### names = \"Ama,John,James,Prince\"\n",
    "names.split(\",\")\n",
    "ages = [22,19,12,30,\"a\"]\n",
    "try:\n",
    "    for age in ages: \n",
    "        if age >15:\n",
    "            print(\"you are eligible to vote\")\n",
    "        else:\n",
    "            print(\"sorry,you are not eligible\")\n",
    "except TypeError:\n",
    "    print(\"Error code\")"
   ]
  },
  {
   "cell_type": "markdown",
   "id": "0d5799fa",
   "metadata": {},
   "source": [
    "## My title"
   ]
  },
  {
   "cell_type": "code",
   "execution_count": null,
   "id": "7c4fc809",
   "metadata": {},
   "outputs": [],
   "source": []
  }
 ],
 "metadata": {
  "kernelspec": {
   "display_name": "Python 3 (ipykernel)",
   "language": "python",
   "name": "python3"
  },
  "language_info": {
   "codemirror_mode": {
    "name": "ipython",
    "version": 3
   },
   "file_extension": ".py",
   "mimetype": "text/x-python",
   "name": "python",
   "nbconvert_exporter": "python",
   "pygments_lexer": "ipython3",
   "version": "3.9.7"
  }
 },
 "nbformat": 4,
 "nbformat_minor": 5
}
