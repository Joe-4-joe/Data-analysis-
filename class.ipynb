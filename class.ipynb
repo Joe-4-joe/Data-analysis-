{
 "cells": [
  {
   "cell_type": "code",
   "execution_count": 21,
   "id": "4157fd17",
   "metadata": {},
   "outputs": [
    {
     "name": "stdout",
     "output_type": "stream",
     "text": [
      "Toyota\n",
      "Benz\n"
     ]
    }
   ],
   "source": [
    "class cars:\n",
    "    \n",
    "    def __init__(self,brand,colour,year):\n",
    "        self_brand=\"brand\"\n",
    "        self_colour=\"colour\"\n",
    "        self_year = \"year\"\n",
    "car_1=cars(\"Toyota\",\"Blue\",2023)\n",
    "car_2=cars(\"Benz\",\"Black\",2022)\n",
    "\n",
    "\n",
    "print(car_1_brand)\n",
    "print(car_2_brand)\n",
    "\n",
    "\n",
    "\n"
   ]
  },
  {
   "cell_type": "code",
   "execution_count": 39,
   "id": "e67d414c",
   "metadata": {},
   "outputs": [
    {
     "ename": "TypeError",
     "evalue": "'str' object is not callable",
     "output_type": "error",
     "traceback": [
      "\u001b[0;31m---------------------------------------------------------------------------\u001b[0m",
      "\u001b[0;31mTypeError\u001b[0m                                 Traceback (most recent call last)",
      "\u001b[0;32m/tmp/ipykernel_2054/3045470900.py\u001b[0m in \u001b[0;36m<module>\u001b[0;34m\u001b[0m\n\u001b[1;32m     10\u001b[0m \u001b[0mcar_3\u001b[0m \u001b[0;34m=\u001b[0m \u001b[0mcars\u001b[0m\u001b[0;34m(\u001b[0m\u001b[0;34m\"Hyndai\"\u001b[0m\u001b[0;34m,\u001b[0m\u001b[0;34m\"Atos\"\u001b[0m\u001b[0;34m,\u001b[0m\u001b[0;36m2014\u001b[0m\u001b[0;34m,\u001b[0m\u001b[0;34m\"Black\"\u001b[0m\u001b[0;34m,\u001b[0m\u001b[0;36m15432.9\u001b[0m\u001b[0;34m)\u001b[0m\u001b[0;34m\u001b[0m\u001b[0;34m\u001b[0m\u001b[0m\n\u001b[1;32m     11\u001b[0m \u001b[0mcar_4\u001b[0m \u001b[0;34m=\u001b[0m \u001b[0mcars\u001b[0m\u001b[0;34m(\u001b[0m\u001b[0;34m\"Opel\"\u001b[0m\u001b[0;34m,\u001b[0m\u001b[0;34m\"Astra\"\u001b[0m\u001b[0;34m,\u001b[0m\u001b[0;36m2007\u001b[0m\u001b[0;34m,\u001b[0m\u001b[0;34m\"Wine\"\u001b[0m\u001b[0;34m,\u001b[0m\u001b[0;36m98765.9\u001b[0m\u001b[0;34m)\u001b[0m\u001b[0;34m\u001b[0m\u001b[0;34m\u001b[0m\u001b[0m\n\u001b[0;32m---> 12\u001b[0;31m \u001b[0mprint\u001b[0m\u001b[0;34m(\u001b[0m\u001b[0mcar_1\u001b[0m\u001b[0;34m.\u001b[0m\u001b[0mcolour\u001b[0m\u001b[0;34m(\u001b[0m\u001b[0;34m)\u001b[0m\u001b[0;34m)\u001b[0m\u001b[0;34m\u001b[0m\u001b[0;34m\u001b[0m\u001b[0m\n\u001b[0m",
      "\u001b[0;31mTypeError\u001b[0m: 'str' object is not callable"
     ]
    }
   ],
   "source": [
    "class cars:\n",
    "    def __init__(self,make,model,year,colour,milage):\n",
    "        self.make = \"make\"\n",
    "        self.model = \"model\"\n",
    "        self.year = \"year\"\n",
    "        self.colour = \"colour\"\n",
    "        self.milage = \"milage\"\n",
    "car_1 = cars(\"Ford\",\"Speed\",2010,\"Blue\",27389.8)\n",
    "car_2 = cars(\"Toyota\",\"Camry-Spider\",2012,\"White\",76851.9)\n",
    "car_3 = cars(\"Hyndai\",\"Atos\",2014,\"Black\",15432.9)\n",
    "car_4 = cars(\"Opel\",\"Astra\",2007,\"Wine\",98765.9)\n",
    "print(car_1.colour())\n"
   ]
  }
 ],
 "metadata": {
  "kernelspec": {
   "display_name": "Python 3 (ipykernel)",
   "language": "python",
   "name": "python3"
  },
  "language_info": {
   "codemirror_mode": {
    "name": "ipython",
    "version": 3
   },
   "file_extension": ".py",
   "mimetype": "text/x-python",
   "name": "python",
   "nbconvert_exporter": "python",
   "pygments_lexer": "ipython3",
   "version": "3.9.7"
  }
 },
 "nbformat": 4,
 "nbformat_minor": 5
}
