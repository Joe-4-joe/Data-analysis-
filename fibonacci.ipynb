{
 "cells": [
  {
   "cell_type": "code",
   "execution_count": 9,
   "id": "614a91ee",
   "metadata": {},
   "outputs": [
    {
     "name": "stdout",
     "output_type": "stream",
     "text": [
      "0\n",
      "1\n",
      "1\n",
      "2\n",
      "3\n",
      "5\n",
      "8\n",
      "13\n",
      "21\n",
      "34\n"
     ]
    }
   ],
   "source": [
    "def fib(n):\n",
    "    first_number=0\n",
    "    second_number=1\n",
    "    print(first_number)\n",
    "    print(second_number)\n",
    "    for i in range(2,n):\n",
    "        third_number = first_number + second_number\n",
    "        first_number = second_number \n",
    "        second_number = third_number\n",
    "        print(third_number)\n",
    "\n",
    "fib(10)\n",
    "\n"
   ]
  },
  {
   "cell_type": "code",
   "execution_count": 94,
   "id": "1d7cc0b4",
   "metadata": {},
   "outputs": [
    {
     "name": "stdout",
     "output_type": "stream",
     "text": [
      "the books are amazing\n"
     ]
    }
   ],
   "source": [
    "def tin(n):\n",
    "    print (\"The books are\" + n)\n",
    "tin(\" \"+'amazing')"
   ]
  },
  {
   "cell_type": "code",
   "execution_count": 11,
   "id": "35eaa5cb",
   "metadata": {},
   "outputs": [
    {
     "name": "stdout",
     "output_type": "stream",
     "text": [
      "0\n",
      "0\n",
      "1\n",
      "1\n",
      "2\n",
      "3\n",
      "5\n",
      "8\n",
      "13\n",
      "21\n",
      "34\n",
      "55\n",
      "89\n",
      "144\n",
      "233\n",
      "377\n",
      "610\n",
      "987\n",
      "1597\n",
      "2584\n",
      "4181\n",
      "6765\n",
      "10946\n",
      "17711\n",
      "28657\n",
      "46368\n",
      "75025\n",
      "121393\n",
      "196418\n",
      "317811\n",
      "514229\n",
      "832040\n",
      "1346269\n",
      "2178309\n",
      "3524578\n",
      "5702887\n",
      "9227465\n",
      "14930352\n",
      "24157817\n",
      "39088169\n",
      "63245986\n",
      "102334155\n",
      "165580141\n",
      "267914296\n",
      "433494437\n",
      "701408733\n",
      "1134903170\n",
      "1836311903\n",
      "2971215073\n",
      "4807526976\n",
      "7778742049\n",
      "12586269025\n",
      "20365011074\n",
      "32951280099\n",
      "53316291173\n",
      "86267571272\n",
      "139583862445\n",
      "225851433717\n",
      "365435296162\n",
      "591286729879\n",
      "956722026041\n",
      "1548008755920\n",
      "2504730781961\n",
      "4052739537881\n",
      "6557470319842\n",
      "10610209857723\n",
      "17167680177565\n",
      "27777890035288\n",
      "44945570212853\n",
      "72723460248141\n"
     ]
    }
   ],
   "source": [
    "fibonacci_sequence = int(input())\n",
    "a=0\n",
    "b=1\n",
    "\n",
    "for i in range(2,71):\n",
    "    print(a)\n",
    "    c = a + b\n",
    "    a = b\n",
    "    b = c\n",
    "    count+=1"
   ]
  },
  {
   "cell_type": "code",
   "execution_count": null,
   "id": "80f943af",
   "metadata": {},
   "outputs": [],
   "source": [
    "def addition(num1,num2):\n",
    "    return num1+num2\n",
    "def multiplication(num1,num2):\n",
    "    return num1*num2\n",
    "def subtract(num1,num2):\n",
    "    return num1-num2\n",
    "def division(num1,num2):\n",
    "    return num1/num2\n",
    "\n",
    "print(\"what kind of operation do you want to perform\")\n",
    "print(\"1.Addition\")\n",
    "print(\"2.Multiplication\")\n",
    "print(\"3.Subtraction\")\n",
    "print(\"4.Division\")\n",
    "choice=input()\n",
    "first_Number= float(input())\n",
    "second_Number=float(input())\n",
    "\n",
    "if choice == 1:\n",
    "    result= addition(num1,num2)\n",
    "    print('Result:',result)\n",
    "elif choice==2:\n",
    "    result= multiplication(num1,num2)\n",
    "    print (\"Result:\",result)\n",
    "elif choice==3:\n",
    "    result = subtraction(num1,num2)\n",
    "    print(\"Result:\",result)\n",
    "elif division:\n",
    "    if num2 !=0\n",
    "    result= division(num1,num2)\n",
    "    print(\"Result:\",result)\n",
    " else:\n",
    "    print(\"error\")\n",
    "else:\n",
    "    print('invalid choice')\n",
    "    \n",
    "    "
   ]
  }
 ],
 "metadata": {
  "kernelspec": {
   "display_name": "Python 3 (ipykernel)",
   "language": "python",
   "name": "python3"
  },
  "language_info": {
   "codemirror_mode": {
    "name": "ipython",
    "version": 3
   },
   "file_extension": ".py",
   "mimetype": "text/x-python",
   "name": "python",
   "nbconvert_exporter": "python",
   "pygments_lexer": "ipython3",
   "version": "3.9.7"
  }
 },
 "nbformat": 4,
 "nbformat_minor": 5
}
