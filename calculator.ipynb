{
 "cells": [
  {
   "cell_type": "code",
   "execution_count": 44,
   "id": "84fa23a9",
   "metadata": {},
   "outputs": [
    {
     "name": "stdout",
     "output_type": "stream",
     "text": [
      "1.Addition\n",
      "2.Multiplication\n",
      "3.Subtraction\n",
      "4.Division\n",
      "what kind of operation do you want to performAddition\n",
      "enter the first number:2\n",
      "enter the second number:3\n",
      "invalid choice\n"
     ]
    }
   ],
   "source": [
    "#caculator\n",
    "def addition(num1,num2):\n",
    "    return num1+num2\n",
    "def multiplication(num1,num2):\n",
    "    return num1*num2\n",
    "def subtract(num1,num2):\n",
    "    return num1-num2\n",
    "def division(num1,num2):\n",
    "    return num1/num2\n",
    "\n",
    "\n",
    "print(\"1.Addition\")\n",
    "print(\"2.Multiplication\")\n",
    "print(\"3.Subtraction\")\n",
    "print(\"4.Division\")\n",
    "choice=input(\"what kind of operation do you want to perform\")\n",
    "num1=first_Number= float(input(\"enter the first number:\"))\n",
    "num2=second_Number=float(input(\"enter the second number:\")) \n",
    "\n",
    "\n",
    "if choice == '1':\n",
    "        result= addition(num1,num2)\n",
    "        print('Result:',result)\n",
    "elif choice== '2':\n",
    "        result= multiplication(num1,num2)\n",
    "        print (\"Result:\",result)\n",
    "elif choice== '3':\n",
    "        result = subtraction(num1,num2)\n",
    "        print(\"Result:\",result)\n",
    "elif choice == '4':\n",
    " if num2 != 0:\n",
    "     result= division(num1,num2)\n",
    "     print(\"Result:\",result)\n",
    " else:\n",
    "     print(\"error\")\n",
    "else:\n",
    "    print('invalid choice')\n",
    "    "
   ]
  }
 ],
 "metadata": {
  "kernelspec": {
   "display_name": "Python 3 (ipykernel)",
   "language": "python",
   "name": "python3"
  },
  "language_info": {
   "codemirror_mode": {
    "name": "ipython",
    "version": 3
   },
   "file_extension": ".py",
   "mimetype": "text/x-python",
   "name": "python",
   "nbconvert_exporter": "python",
   "pygments_lexer": "ipython3",
   "version": "3.9.7"
  }
 },
 "nbformat": 4,
 "nbformat_minor": 5
}
